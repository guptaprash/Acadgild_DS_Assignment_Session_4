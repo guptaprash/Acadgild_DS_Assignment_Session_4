{
 "cells": [
  {
   "cell_type": "markdown",
   "metadata": {},
   "source": [
    "## 1.1 Write a Python Program(with class concepts) to find the area of the triangle using the below formula.\n",
    "## area = (s *** (s-a) *** (s-b) *** (s-c)) **** 0.5\n",
    "## Function to take the length of the sides of triangle from user should be defined in the parent class and function to calculate the area should be defined in subclass."
   ]
  },
  {
   "cell_type": "code",
   "execution_count": 1,
   "metadata": {},
   "outputs": [
    {
     "name": "stdout",
     "output_type": "stream",
     "text": [
      "2\n",
      "3\n",
      "4\n",
      "2.9047375096555625\n"
     ]
    }
   ],
   "source": [
    "class Parameter:\n",
    "    def __init__(self, side1, side2, side3):\n",
    "        self.side1 = side1\n",
    "        self.side2 = side2\n",
    "        self.side3 = side3\n",
    "\n",
    "class Area(Parameter):\n",
    "    \n",
    "    def __init__(self,*args, **kwargs):\n",
    "        super(Area, self).__init__(*args, **kwargs)\n",
    "        #self._student_id = student_id\n",
    "    \n",
    "    def area(self):\n",
    "        print(self.side1)\n",
    "        print(self.side2)\n",
    "        print(self.side3)\n",
    "        half_of_peremeter = (self.side1 + self.side2 + self.side3)/2 # calculating half of peremeter\n",
    "        if (half_of_peremeter<=self.side1 or half_of_peremeter<=self.side2 or half_of_peremeter<=self.side3) :\n",
    "            return (\"Not valid sides of triangle\")\n",
    "        else :\n",
    "            return (half_of_peremeter*(half_of_peremeter-self.side1)*(half_of_peremeter-self.side2)*(half_of_peremeter-self.side3))**0.5\n",
    "\n",
    "\n",
    "cal_area = Area(2,3,4)\n",
    "print(cal_area.area())"
   ]
  },
  {
   "cell_type": "markdown",
   "metadata": {},
   "source": [
    "## 1.2 Write a function filter_long_words() that takes a list of words and an integer n and returns the list of words that are longer than n."
   ]
  },
  {
   "cell_type": "code",
   "execution_count": 2,
   "metadata": {},
   "outputs": [
    {
     "name": "stdout",
     "output_type": "stream",
     "text": [
      "['ACADGLID', 'Prashant', 'helping']\n"
     ]
    }
   ],
   "source": [
    "def filter_long_words(list, n):\n",
    "    list1 =[]\n",
    "    for x in list:\n",
    "        if (len(x)>n):\n",
    "            list1.append(x)\n",
    "    return list1\n",
    "\n",
    "list = ['ACADGLID', 'Prashant', 'some', 'true', 'helping']\n",
    "\n",
    "print(filter_long_words(list, 5))\n",
    "    "
   ]
  },
  {
   "cell_type": "markdown",
   "metadata": {},
   "source": [
    "## 2.1 Write a Python program using function concept that maps list of words into a list of integers representing the lengths of the corresponding words ."
   ]
  },
  {
   "cell_type": "code",
   "execution_count": 3,
   "metadata": {},
   "outputs": [
    {
     "name": "stdout",
     "output_type": "stream",
     "text": [
      "({'ACADGLID': 8, 'Prashant': 8, 'some': 4, 'true': 4, 'helping': 7}, [8, 8, 4, 4, 7])\n"
     ]
    }
   ],
   "source": [
    "class LengthOfWord():\n",
    "    \n",
    "    def __init__(self,list):\n",
    "        self.list=list\n",
    "       \n",
    "    \n",
    "    def lengthOfWord(self):\n",
    "        dict = {}\n",
    "        list = []\n",
    "        for x in self.list :\n",
    "            dict[x] = len(x)\n",
    "            list.append(len(x))\n",
    "        return dict, list\n",
    "            \n",
    "    \n",
    "list = ['ACADGLID', 'Prashant', 'some', 'true', 'helping']\n",
    "lengthOfWord = LengthOfWord(list)\n",
    "print(lengthOfWord.lengthOfWord())"
   ]
  },
  {
   "cell_type": "markdown",
   "metadata": {},
   "source": [
    "## 2.2 Write a Python function which takes a character (i.e. a string of length 1) and returns True if it is a vowel, False otherwise."
   ]
  },
  {
   "cell_type": "code",
   "execution_count": 9,
   "metadata": {},
   "outputs": [
    {
     "name": "stdout",
     "output_type": "stream",
     "text": [
      "False\n"
     ]
    }
   ],
   "source": [
    "class Vovel():\n",
    "    \n",
    "  \n",
    "    def __init__(self,var):\n",
    "        self.list=list\n",
    "    \n",
    "    def trueOrFalse(self):\n",
    "        list1 = ['a','e','i','o','u' ]\n",
    "        if(var in list1):\n",
    "            return True\n",
    "        else :\n",
    "            return False\n",
    "            \n",
    "            \n",
    "    \n",
    "var = 'p'\n",
    "vovel = Vovel(var)\n",
    "print(vovel.trueOrFalse())"
   ]
  }
 ],
 "metadata": {
  "kernelspec": {
   "display_name": "Python 3",
   "language": "python",
   "name": "python3"
  },
  "language_info": {
   "codemirror_mode": {
    "name": "ipython",
    "version": 3
   },
   "file_extension": ".py",
   "mimetype": "text/x-python",
   "name": "python",
   "nbconvert_exporter": "python",
   "pygments_lexer": "ipython3",
   "version": "3.6.4"
  }
 },
 "nbformat": 4,
 "nbformat_minor": 2
}
